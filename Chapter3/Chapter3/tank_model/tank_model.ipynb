{
  "nbformat": 4,
  "nbformat_minor": 0,
  "metadata": {
    "colab": {
      "provenance": []
    },
    "kernelspec": {
      "name": "python3",
      "display_name": "Python 3"
    },
    "language_info": {
      "name": "python"
    }
  },
  "cells": [
    {
      "cell_type": "code",
      "execution_count": 1,
      "metadata": {
        "id": "X0fxu1Ha4orR"
      },
      "outputs": [],
      "source": [
        "# Define tank model function\n",
        "def tank_model(t, x):\n",
        "    A = 1.0\n",
        "    C = 2.0\n",
        "    F_in = 0\n",
        "    u = 0.1\n",
        "\n",
        "    xp = 1/A * (F_in - C * u * np.sqrt(x))\n",
        "    return xp"
      ]
    }
  ]
}