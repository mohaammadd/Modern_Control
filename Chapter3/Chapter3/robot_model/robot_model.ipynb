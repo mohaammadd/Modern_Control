{
  "nbformat": 4,
  "nbformat_minor": 0,
  "metadata": {
    "colab": {
      "provenance": []
    },
    "kernelspec": {
      "name": "python3",
      "display_name": "Python 3"
    },
    "language_info": {
      "name": "python"
    }
  },
  "cells": [
    {
      "cell_type": "code",
      "execution_count": 2,
      "metadata": {
        "id": "ZKtZsRte1jiO"
      },
      "outputs": [],
      "source": [
        "import numpy as np\n",
        "# Define robot model function\n",
        "def robot_model(t, x):\n",
        "    # Robot parameters\n",
        "    g = 9.81\n",
        "    l1 = 1\n",
        "    l2 = 0.5\n",
        "    m1 = 2\n",
        "    m2 = 1\n",
        "    I1 = 1e-2\n",
        "    I2 = 5e-3\n",
        "    D = 2\n",
        "\n",
        "    # Mass matrix (M)\n",
        "    M = np.array([[m1*(l1/2)**2 + m2*(l1**2 + (l2/2)**2) + m2*l1*l2*np.cos(x[1]) + I1 + I2,\n",
        "                   m2*(l2/2)**2 + 0.5*m2*l1*l2*np.cos(x[1]) + I2],\n",
        "                  [m2*(l2/2)**2 + 0.5*m2*l1*l2*np.cos(x[1]) + I2,\n",
        "                   m2*(l2/2)**2 + I2]])\n",
        "\n",
        "    # Coriolis and centrifugal terms (V)\n",
        "    V = np.array([[-m2*l1*l2*np.sin(x[1])*x[2]*x[3] - 0.5*m2*l1*l2*np.sin(x[1])*x[3]**2],\n",
        "                  [-0.5*m2*l1*l2*np.sin(x[1])*x[2]*x[3]]])\n",
        "\n",
        "    # Gravitational terms (G)\n",
        "    G = np.array([[ (m1*l1/2 + m2*l1)*g*np.cos(x[0]) + m2*g*l2/2*np.cos(x[0] + x[1])],\n",
        "                  [ m2*g*l2/2*np.cos(x[0] + x[1])]])\n",
        "\n",
        "    # Input (Q) - currently no external torques\n",
        "    Q = np.array([[-D*x[2]],  # Damping term for joint 1\n",
        "                  [-D*x[3]]])  # Damping term for joint 2\n",
        "\n",
        "    # System dynamics\n",
        "    xy = np.linalg.pinv(M) @ (Q - V - G)\n",
        "\n",
        "    # Output - angular velocities and accelerations\n",
        "    xp = np.vstack((x[2:], xy.flatten()))\n",
        "\n",
        "    return xp.flatten()\n"
      ]
    }
  ]
}