{
  "nbformat": 4,
  "nbformat_minor": 0,
  "metadata": {
    "colab": {
      "provenance": []
    },
    "kernelspec": {
      "name": "python3",
      "display_name": "Python 3"
    },
    "language_info": {
      "name": "python"
    }
  },
  "cells": [
    {
      "cell_type": "code",
      "execution_count": 1,
      "metadata": {
        "id": "C8SX677qxGVN"
      },
      "outputs": [],
      "source": [
        "def inverted_pendulum(t, x):\n",
        "    g = 9.8\n",
        "    l = 1\n",
        "    m = 1\n",
        "    M = 1\n",
        "\n",
        "    d1 = M + m * (1 - np.cos(x[1])**2)\n",
        "    d2 = l * d1\n",
        "\n",
        "    F = 0  # No input\n",
        "\n",
        "    dxdt = np.zeros(4)\n",
        "    dxdt[0] = x[2]\n",
        "    dxdt[1] = x[3]\n",
        "    dxdt[2] = (F + m * l * x[3]**2 * np.sin(x[1]) - m * g * np.sin(x[1]) * np.cos(x[1])) / d1\n",
        "    dxdt[3] = (-F * np.cos(x[1]) - m * l * x[3]**2 * np.sin(x[1]) * np.cos(x[1]) + (M + m) * g * np.sin(x[1])) / d2\n",
        "\n",
        "    return dxdt"
      ]
    }
  ]
}